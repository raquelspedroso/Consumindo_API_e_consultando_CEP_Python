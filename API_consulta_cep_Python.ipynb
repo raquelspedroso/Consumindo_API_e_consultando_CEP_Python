{
  "nbformat": 4,
  "nbformat_minor": 0,
  "metadata": {
    "colab": {
      "name": "API_consulta_cep_Python.ipynb",
      "provenance": [],
      "authorship_tag": "ABX9TyMQNCjVZeMQ1rHDIJrgab72",
      "include_colab_link": true
    },
    "kernelspec": {
      "name": "python3",
      "display_name": "Python 3"
    },
    "language_info": {
      "name": "python"
    }
  },
  "cells": [
    {
      "cell_type": "markdown",
      "metadata": {
        "id": "view-in-github",
        "colab_type": "text"
      },
      "source": [
        "<a href=\"https://colab.research.google.com/github/raquelspedroso/Consumindo_API_e_consultando_CEP_Python/blob/main/API_consulta_cep_Python.ipynb\" target=\"_parent\"><img src=\"https://colab.research.google.com/assets/colab-badge.svg\" alt=\"Open In Colab\"/></a>"
      ]
    },
    {
      "cell_type": "code",
      "source": [
        "import requests\n",
        "\n",
        "def main():\n",
        "\n",
        "    print('********************')\n",
        "    print('** CONSULTAR CEP: **')\n",
        "    print('********************')\n",
        "    print()\n",
        "\n",
        "    cep = input('Digite o cep: ')\n",
        "\n",
        "    if len(cep) !=8:\n",
        "        print('Quantidades de digitos do cep invalida!')\n",
        "        exit()\n",
        "\n",
        "    request = requests.get('https://viacep.com.br/ws/{}/json/'.format(cep))  \n",
        "\n",
        "    print(request.json())\n",
        "\n",
        "    address_data = request.json()\n",
        "\n",
        "    if 'erro' not in address_data:\n",
        "        print('Cep encontrado: ')\n",
        "        \n",
        "        print('CEP: {}'.format(address_data['cep']))\n",
        "        print('Endereço: {}'.format(address_data['logradouro']))\n",
        "        print('Complemento: {}'.format(address_data['complemento']))\n",
        "        print('Bairro: {}'.format(address_data['bairro']))\n",
        "        print('Cidade: {}'.format(address_data['localidade']))\n",
        "        print('Estado: {}'.format(address_data['uf']))\n",
        "\n",
        "    else:\n",
        "        print('{}: Cep Inválido.'.format(cep))\n",
        "\n",
        "    sequencia = int(input('Deseja realizar uma nova consulta? \\n 1. Sim \\n 2. não \\n'))\n",
        "    if sequencia == 1:\n",
        "        main()\n",
        "    else:\n",
        "        print('Consulta finalizada.')    \n",
        "\n",
        "if __name__ == '__main__':\n",
        "    main()    \n",
        "        \n",
        "        \n"
      ],
      "metadata": {
        "colab": {
          "base_uri": "https://localhost:8080/"
        },
        "id": "5RI2Gb-8nGld",
        "outputId": "721b046b-041b-495e-a8fe-4d8667065ce0"
      },
      "execution_count": 3,
      "outputs": [
        {
          "output_type": "stream",
          "name": "stdout",
          "text": [
            "********************\n",
            "** CONSULTAR CEP: **\n",
            "********************\n",
            "\n",
            "Digite o cep: 70070130\n",
            "{'cep': '70070-130', 'logradouro': 'SBS Quadra 3', 'complemento': '', 'bairro': 'Asa Sul', 'localidade': 'Brasília', 'uf': 'DF', 'ibge': '5300108', 'gia': '', 'ddd': '61', 'siafi': '9701'}\n",
            "Cep encontrado: \n",
            "CEP: 70070-130\n",
            "Endereço: SBS Quadra 3\n",
            "Complemento: \n",
            "Bairro: Asa Sul\n",
            "Cidade: Brasília\n",
            "Estado: DF\n",
            "Deseja realizar uma nova consulta? \n",
            " 1. Sim \n",
            " 2. não \n",
            "2\n",
            "Consulta finalizada.\n"
          ]
        }
      ]
    }
  ]
}